{
  "cells": [
    {
      "cell_type": "markdown",
      "metadata": {
        "id": "view-in-github",
        "colab_type": "text"
      },
      "source": [
        "<a href=\"https://colab.research.google.com/github/relay10/Numerical-methods-on-1d-TDSE-and-Tunnelling-Process/blob/main/COM4509_lab1_(2024_25).ipynb\" target=\"_parent\"><img src=\"https://colab.research.google.com/assets/colab-badge.svg\" alt=\"Open In Colab\"/></a>"
      ]
    },
    {
      "cell_type": "markdown",
      "metadata": {
        "id": "MO2HehZvwPXc"
      },
      "source": [
        "# COM4509/6509 - Lab 1: Probability"
      ]
    },
    {
      "cell_type": "markdown",
      "source": [
        "## Introduction to the Dataset\n",
        "\n",
        "For this exercise we'll use the [Diabetes Health Indicators Dataset](https://www.kaggle.com/datasets/alexteboul/diabetes-health-indicators-dataset): 253,680 Americans were called to ask about some of their health-related behaviours (eating fruit etc), and some health outcomes (have they diabetes, etc)."
      ],
      "metadata": {
        "id": "cEnUQlwz9j8n"
      }
    },
    {
      "cell_type": "markdown",
      "metadata": {
        "id": "PVNE1RvTwPXi"
      },
      "source": [
        "We first need to import various modules we'll use, download the dataset and open it, including [pandas](https://pandas.pydata.org), a data analysis and manipulation library, for looking at this data."
      ]
    },
    {
      "cell_type": "code",
      "execution_count": null,
      "metadata": {
        "id": "bJPKRyAHwPXl"
      },
      "outputs": [],
      "source": [
        "import pandas as pd   #useful for data access and manipulation\n",
        "import urllib.request #used to download the dataset\n",
        "import matplotlib.pyplot as plt #useful for plotting\n",
        "#ensure our plots appear in the notebook:\n",
        "%matplotlib inline\n",
        "import numpy as np    #numpy is useful for matrix/array/tensor manipulation"
      ]
    },
    {
      "cell_type": "markdown",
      "metadata": {
        "id": "OsLxYtdbwPXn"
      },
      "source": [
        "Now download and open the dataset:"
      ]
    },
    {
      "cell_type": "code",
      "execution_count": null,
      "metadata": {
        "id": "VwubPcGCwPXo"
      },
      "outputs": [],
      "source": [
        "urllib.request.urlretrieve('https://drive.google.com/u/0/uc?id=1dprY31miDsQSZZwMkOfHoqkH4TQ8gV2W&export=download', './diabetes.csv')\n",
        "df = pd.read_csv('diabetes.csv')"
      ]
    },
    {
      "cell_type": "markdown",
      "metadata": {
        "id": "MY-8VpDbwPXp"
      },
      "source": [
        "We can look at the content: It is a large table, containing 253680 rows (each row is a person) and 22 columns:"
      ]
    },
    {
      "cell_type": "code",
      "execution_count": null,
      "metadata": {
        "id": "d5DDqGyFwPXr"
      },
      "outputs": [],
      "source": [
        "print(\"The columns in the dataset:\")\n",
        "print(df.columns)"
      ]
    },
    {
      "cell_type": "markdown",
      "metadata": {
        "id": "RSoCZQMewPXs"
      },
      "source": [
        "The dataframe itself:"
      ]
    },
    {
      "cell_type": "code",
      "execution_count": null,
      "metadata": {
        "id": "Oi4QTfTxwPXs"
      },
      "outputs": [],
      "source": [
        "df"
      ]
    },
    {
      "cell_type": "markdown",
      "metadata": {
        "id": "u03AHON_wPXt"
      },
      "source": [
        "To get summary statistics about all these, use the .describe() method of the dataframe:"
      ]
    },
    {
      "cell_type": "code",
      "execution_count": null,
      "metadata": {
        "id": "przwihQuwPXv"
      },
      "outputs": [],
      "source": [
        "df.describe()"
      ]
    },
    {
      "cell_type": "markdown",
      "metadata": {
        "id": "mpTPOvq5wPXw"
      },
      "source": [
        "## Probabilities\n",
        "\n",
        "We can estimate probabilities from this sample of the population.\n",
        "\n",
        "Probabilities can be defined as the limit between the ratio of the number of positive outcomes (e.g. heads, if flipping a coin) and the number of trials:\n",
        "\n",
        "$$P(Y = y) = \\lim_{N \\rightarrow \\infty} \\frac{n_y}{N}$$\n",
        "\n",
        "If you only have a finite number of samples, we can assume that the ratio is still approximately correct for now:\n",
        "\n",
        "$$P(Y = y) \\approx \\frac{n_y}{N}$$\n",
        "\n",
        "### Using the dataset to find some probabilities\n",
        "\n",
        "What is the probability a person in this dataset is under 50?\n",
        "\n",
        "As with numpy arrays, we can do a boolean operation on all of them to get a boolean array of which items the condition is true for:"
      ]
    },
    {
      "cell_type": "code",
      "source": [
        "df['Age']<50"
      ],
      "metadata": {
        "id": "wLCquWFO-PDe"
      },
      "execution_count": null,
      "outputs": []
    },
    {
      "cell_type": "markdown",
      "source": [
        "If we ask for the mean, it will give us the proportion that are true:"
      ],
      "metadata": {
        "id": "hk8SgsC4-VFv"
      }
    },
    {
      "cell_type": "code",
      "execution_count": null,
      "metadata": {
        "id": "slTpDgigwPXy"
      },
      "outputs": [],
      "source": [
        "P_AgeLessThan50 = np.mean(df['Age']<50) #we can use the mean as the comparison returns a boolean with False being treated as a zero, and a True as a one.\n",
        "print(\"%0.1f%% of people in the dataset are <50 years old\" % (100*P_AgeLessThan50))"
      ]
    },
    {
      "cell_type": "markdown",
      "metadata": {
        "id": "LXDq50DLwPXy"
      },
      "source": [
        "What is the probability a person in the dataset is under 50 AND regularly eats vegatables? (JOINT PROBABILITY)"
      ]
    },
    {
      "cell_type": "code",
      "execution_count": null,
      "metadata": {
        "id": "ptjNIxmdwPXy"
      },
      "outputs": [],
      "source": [
        "P_AgeLessThan50andVeg = np.mean((df['Age']<50) & (df['Veggies']))\n",
        "print(\"%0.1f%% of people in the dataset are <50 years old AND eat vegetables.\" % (100*P_AgeLessThan50andVeg))"
      ]
    },
    {
      "cell_type": "markdown",
      "metadata": {
        "id": "KUGgou_gwPXz"
      },
      "source": [
        "### Product Rule\n",
        "\n",
        "What is the probability that they eat vegetables GIVEN they are under 50.\n",
        "\n",
        "The product rule for probability we learnt was:\n",
        "\n",
        "$$P(A,B) = P(A|B) P(B)$$\n",
        "\n",
        "If we rearrange it we can find the conditional probability (please make sure you understand this step):\n",
        "\n",
        "$$\\frac{P(Veg=true, Age<50)}{P(Age<50)} = P(Veg=true\\;|\\;Age<50)$$\n",
        "\n",
        "This is a conditional probability. Let's work it out:"
      ]
    },
    {
      "cell_type": "code",
      "execution_count": null,
      "metadata": {
        "id": "QN7jXEKCwPX0"
      },
      "outputs": [],
      "source": [
        "#P(Veg|lt50) = P(Veg, lt50) / P(lt50)\n",
        "print(\"Probability of eating vegetables GIVEN they are under 50: %0.1f%%\" % (100*P_AgeLessThan50andVeg/P_AgeLessThan50))"
      ]
    },
    {
      "cell_type": "markdown",
      "metadata": {
        "id": "wDw_DOQiwPX1"
      },
      "source": [
        "We can check this a different way, by picking out those who are under 50, and the looking at the proportion of those who eat vegetables:"
      ]
    },
    {
      "cell_type": "code",
      "execution_count": null,
      "metadata": {
        "id": "-6_FwEeHwPX1"
      },
      "outputs": [],
      "source": [
        "dfAgeLessThan50 = df[df['Age']<50] #makes a new dataframe with just those under 50.\n",
        "\n",
        "#of this dataframe, the proportion who eat veg:\n",
        "print(\"Probability of eating vegetables GIVEN they are under 50: %0.1f%%\" % (100*np.mean(dfAgeLessThan50['Veggies'])))"
      ]
    },
    {
      "cell_type": "markdown",
      "metadata": {
        "id": "xN3gxHFtwPX2"
      },
      "source": [
        "### Exercise 1: Fruit, Vegetables and Indepence\n",
        "\n",
        "We can get if someone eats fruit regularly using `df['Fruits']==1` and if they eat veg regularly using `df['Veggies']==1`. Compute:\n",
        "\n",
        "- a. the probability of eating fruit regularly.\n",
        "- b. the probability of eating vegetables regularly.\n",
        "- c. the probability of eating both fruit AND vegetables regularly.\n",
        "- d. does it seem like they are independent or not?"
      ]
    },
    {
      "cell_type": "markdown",
      "metadata": {
        "id": "ZuOfwrn7wPX2"
      },
      "source": [
        "---\n",
        "Answer here.\n",
        "\n",
        "---"
      ]
    },
    {
      "cell_type": "markdown",
      "metadata": {
        "id": "L9bV4kvfwPX3"
      },
      "source": [
        "### Exercise 2: Diabetes\n",
        "\n",
        "We can find the proportion of the participants that have diabetes.\n",
        "\n",
        "The diabetes column is:\n",
        "\n",
        "- 0 = no diabetes\n",
        "- 1 = prediabetes\n",
        "- 2 = diabetes\n",
        "\n",
        "So we can write:"
      ]
    },
    {
      "cell_type": "code",
      "execution_count": null,
      "metadata": {
        "id": "xPxsC_ZGwPX3"
      },
      "outputs": [],
      "source": [
        "P_diabetes = np.mean(df['Diabetes_012']==2)\n",
        "print(\"Probability of diabetes (in this cohort): %0.1f%%\" % (100*np.mean(P_diabetes)))"
      ]
    },
    {
      "cell_type": "markdown",
      "metadata": {
        "id": "hH71ps87wPX4"
      },
      "source": [
        "- a. What proportion of those who eat fruit AND vegetables have diabetes?"
      ]
    },
    {
      "cell_type": "markdown",
      "source": [
        "---"
      ],
      "metadata": {
        "id": "Y96BEzTjUhfD"
      }
    },
    {
      "cell_type": "code",
      "execution_count": null,
      "metadata": {
        "id": "89XWE4vfwPX4"
      },
      "outputs": [],
      "source": [
        "#Answer here"
      ]
    },
    {
      "cell_type": "markdown",
      "source": [
        "---"
      ],
      "metadata": {
        "id": "DDzWZHNQUieF"
      }
    },
    {
      "cell_type": "markdown",
      "metadata": {
        "id": "UldPNLzuwPX5"
      },
      "source": [
        "- b. A smaller proportion of those who eat fruit and vegetables have diabetes, can we say from this that eating fruit and vegetables can reduce the risk of diabetes?"
      ]
    },
    {
      "cell_type": "markdown",
      "source": [
        "---\n",
        "\n",
        "Answer here.\n",
        "\n",
        "---"
      ],
      "metadata": {
        "id": "VcpCjfRXT5xR"
      }
    },
    {
      "cell_type": "markdown",
      "metadata": {
        "id": "p6AgzQJMwPX6"
      },
      "source": [
        "### Exercise 3: Plotting\n",
        "\n",
        "One of the columns is the BMI (body mass index) of the participants. Let's plot it in a histogram."
      ]
    },
    {
      "cell_type": "code",
      "execution_count": null,
      "metadata": {
        "id": "hiyGWsQMwPX6"
      },
      "outputs": [],
      "source": [
        "#it can be useful, for data that has both high counts and low, to switch to a log axis.\n",
        "#we can do this with the hist method by adding the log=True parameter (Try turning it on / off)\n",
        "plt.hist(df['BMI'],20)#,log=True);\n",
        "plt.grid()\n",
        "plt.xlabel('BMI')\n",
        "plt.ylabel('Frequency')"
      ]
    },
    {
      "cell_type": "markdown",
      "metadata": {
        "id": "vBIZAwvBwPX7"
      },
      "source": [
        "Exercise:\n",
        "    \n",
        "- a. The second parameter in the call to the `plt.hist` function selects the number of bins. Change it to 30 to get more detail.\n",
        "- b. Is this a normal distribution? Why/why not?"
      ]
    },
    {
      "cell_type": "markdown",
      "source": [
        "---\n",
        "\n",
        "Answer to b here.\n",
        "\n",
        "---"
      ],
      "metadata": {
        "id": "7vJCdynYUvDa"
      }
    },
    {
      "cell_type": "markdown",
      "metadata": {
        "id": "JKsXTVU6wPX8"
      },
      "source": [
        "Let's look at how BMI and income interact. The 'Income' column is *categorical* (with category 1 meaning less than \\$10k/year; and category 8 means \\$75k/year or more). Full details are in the ['codebook' for the dataset](https://www.cdc.gov/brfss/annual_data/2015/pdf/codebook15_llcp.pdf).\n",
        "\n",
        "So we create two numpy arrays `BMIofLowIncome` and `BMIofHighIncome` containing the BMI values for those two groups. We can then plot them as histograms too. I've plotted the density (as the two groups are different sizes, this makes it easier to compare). A density means the area under both histograms each sum to one."
      ]
    },
    {
      "cell_type": "code",
      "execution_count": null,
      "metadata": {
        "id": "fFVsVqeYwPX9"
      },
      "outputs": [],
      "source": [
        "BMIofLowIncome = df[df['Income']==1]['BMI'].to_numpy()\n",
        "BMIofHighIncome = df[df['Income']==8]['BMI'].to_numpy()\n",
        "plt.hist(BMIofLowIncome,20,density=True,histtype='stepfilled',color='skyblue',ec=\"black\",label=\"Lowest Income\")\n",
        "plt.hist(BMIofHighIncome,20,alpha=0.4,density=True,histtype='stepfilled',color='green',ec=\"black\",label=\"Highest Income\");\n",
        "plt.legend()\n",
        "plt.ylabel('Density')\n",
        "plt.xlabel('BMI')"
      ]
    },
    {
      "cell_type": "code",
      "source": [
        "print(\"Mean BMI of high income and low income groups: %0.1f, %0.1f kg/m^2\" % (np.mean(BMIofLowIncome),np.mean(BMIofHighIncome)))\n",
        "print(\"%0.1f%% of people in the high income group are severely obese, while %0.1f%% of people in the low income group are.\" % (100*np.mean(BMIofHighIncome>40),100*np.mean(BMIofLowIncome>40)))"
      ],
      "metadata": {
        "id": "vgRCxEhtVU9e"
      },
      "execution_count": null,
      "outputs": []
    },
    {
      "cell_type": "markdown",
      "metadata": {
        "id": "RlJ5HTeswPX-"
      },
      "source": [
        "Although the mean BMI is only slightly higher in the low income group, the increased variance means far more of those in the low income group have very high BMI values.\n",
        "\n",
        "### Exercise 4: Expectations and Moments\n",
        "\n",
        "We can compute the variance, using `np.var` of the two groups BMIs:"
      ]
    },
    {
      "cell_type": "code",
      "execution_count": null,
      "metadata": {
        "id": "ODO_iwDGwPX-"
      },
      "outputs": [],
      "source": [
        "np.var(BMIofLowIncome)"
      ]
    },
    {
      "cell_type": "code",
      "execution_count": null,
      "metadata": {
        "id": "4-5dJ2ClwPX-"
      },
      "outputs": [],
      "source": [
        "np.var(BMIofHighIncome)"
      ]
    },
    {
      "cell_type": "markdown",
      "metadata": {
        "id": "IpDc33o-wPX-"
      },
      "source": [
        "- a. Can you compute the variance without using the `np.var` or `np.mean` functions? Instead think about how we computed the appropriate expectations. You might find `np.sum(x)` useful (this sums over a list or array) and `len(x)` which will give you the length of an array or list, x."
      ]
    },
    {
      "cell_type": "markdown",
      "source": [
        "---"
      ],
      "metadata": {
        "id": "-jrTL-4QWXz1"
      }
    },
    {
      "cell_type": "code",
      "execution_count": null,
      "metadata": {
        "id": "Jt2HLQqXwPX-"
      },
      "outputs": [],
      "source": [
        "#Answer here."
      ]
    },
    {
      "cell_type": "markdown",
      "source": [
        "---"
      ],
      "metadata": {
        "id": "vaLsKUsGWY29"
      }
    },
    {
      "cell_type": "markdown",
      "metadata": {
        "id": "1Fec4OS6wPX_"
      },
      "source": [
        "- b. The next moment, after the mean and variance is the skewness of a distribution. It is computed by $$\\tilde{\\mu}_3 = E\\Big[\\Big(\\frac{X-\\mu}{\\sigma}\\Big)^3 \\Big]$$\n",
        "can you compute this?"
      ]
    },
    {
      "cell_type": "markdown",
      "source": [
        "---"
      ],
      "metadata": {
        "id": "oJUfABKMWxO1"
      }
    },
    {
      "cell_type": "code",
      "execution_count": null,
      "metadata": {
        "id": "mgJha2bewPX_"
      },
      "outputs": [],
      "source": [
        "#Answer here."
      ]
    },
    {
      "cell_type": "markdown",
      "source": [
        "---"
      ],
      "metadata": {
        "id": "PcjqVoJoWyA2"
      }
    },
    {
      "cell_type": "markdown",
      "metadata": {
        "id": "wgHVkqDJwPYA"
      },
      "source": [
        "# Naive Bayes\n",
        "\n",
        "The health centre wants to do a blood test on those most at risk of developing diabetes. e.g. if the probability of having diabetes is more than 20\\%.\n",
        "\n",
        "A new patient arrives, who has a BMI of 40. What's the chance that they have diabetes?\n",
        "\n",
        "$$P(Diabetes = true \\; |\\; BMI = 40)$$\n",
        "\n",
        "Remember that the dataframe has a 'Diabetes_012' column (0=no diabetes, 1=pre-diabetic, 2=diabetic). So the proportion of the dataset who are diabetic is:"
      ]
    },
    {
      "cell_type": "code",
      "execution_count": null,
      "metadata": {
        "id": "_89ragEuwPYB"
      },
      "outputs": [],
      "source": [
        "np.mean(df['Diabetes_012']==2)"
      ]
    },
    {
      "cell_type": "markdown",
      "metadata": {
        "id": "GmgovwrjwPYB"
      },
      "source": [
        "Note that the dataset is **not a representative sample**, so really we wouldn't necessarily want to use it for doing this sort of inference, but we'll continue, as an illustration!\n",
        "\n",
        "For our patient we can just look at the proportion of those with BMI=40 who have diabetes:"
      ]
    },
    {
      "cell_type": "code",
      "execution_count": null,
      "metadata": {
        "id": "qRENA7mywPYB"
      },
      "outputs": [],
      "source": [
        "#Here I create a temporary dataframe with those of a BMI of 40 using `df['BMI']==40]`.\n",
        "#I then test each value of the Diabetes_012 column, and find the average number that have\n",
        "#this equal to 2. This givens me the proportion.\n",
        "\n",
        "dfBMI40 = df[df['BMI']==40] #make a new dataframe with just those with a BMI of 40.\n",
        "np.mean(dfBMI40['Diabetes_012']==2) #find the proportion of this subset with diabetes"
      ]
    },
    {
      "cell_type": "markdown",
      "metadata": {
        "id": "CUf0LfRQwPYC"
      },
      "source": [
        "So they fall into our 'high risk' category, as 32% of those with a BMI=40 in the dataset have diabetes."
      ]
    },
    {
      "cell_type": "code",
      "execution_count": null,
      "metadata": {
        "id": "Uv-YLKLxwPYC"
      },
      "outputs": [],
      "source": [
        "#note that, due to the categorical nature of the age the ages are just at these\n",
        "#discrete points:\n",
        "np.unique(df['Age'])"
      ]
    },
    {
      "cell_type": "markdown",
      "metadata": {
        "id": "7WjwOFBlwPYC"
      },
      "source": [
        "## The curse of dimensionality\n",
        "\n",
        "Supposing we also know they are in the age 21 category, and smoke...\n",
        "\n",
        "We can again make a dataframe containing just those who:\n",
        "- have a BMI = 40\n",
        "- are in the age = 21 category\n",
        "- and smoke,"
      ]
    },
    {
      "cell_type": "code",
      "execution_count": null,
      "metadata": {
        "id": "aTmeRKqjwPYD"
      },
      "outputs": [],
      "source": [
        "#Here I create a temporary dataframe containing those who have a BMI of 40, are in the\n",
        "#Age=21 category AND smoke, using `df[(df['BMI']==40) & (df['Age']==21) & (df['Smoker']==1)]`\n",
        "dfBMI40Age21Smoke = df[(df['BMI']==40) & (df['Age']==21) & (df['Smoker']==1)]\n",
        "np.mean(dfBMI40Age21Smoke['Diabetes_012']==2)"
      ]
    },
    {
      "cell_type": "markdown",
      "metadata": {
        "id": "DpR3W_F6wPYE"
      },
      "source": [
        "Great, 0% chance!!\n",
        "But there's something a bit wrong about this analyis..."
      ]
    },
    {
      "cell_type": "code",
      "execution_count": null,
      "metadata": {
        "id": "_ga7McPrwPYF"
      },
      "outputs": [],
      "source": [
        "len(dfBMI40Age21Smoke)"
      ]
    },
    {
      "cell_type": "markdown",
      "metadata": {
        "id": "yvGbTMTvwPYG"
      },
      "source": [
        "There are only 6 people in the dataset with a BMI of 40, who are in the 21 years old category, who smoke.\n",
        "\n",
        "We can display this whole set:"
      ]
    },
    {
      "cell_type": "code",
      "execution_count": null,
      "metadata": {
        "id": "_HdHrT0uwPYG"
      },
      "outputs": [],
      "source": [
        "dfBMI40Age21Smoke"
      ]
    },
    {
      "cell_type": "markdown",
      "metadata": {
        "id": "UvGywVj9wPYH"
      },
      "source": [
        "### What are we assuming here?\n",
        "\n",
        "When we assumed that we can approximate the probability with the ratio of cases to the total number in that condition, we were assuming that the total number was very large, so we were approximating infinite numbers of samples,\n",
        "\n",
        "$$P(Y = y | Z) \\approx \\frac{n_{y|z}}{N_Z}$$\n",
        "\n",
        "Six is not a large enough sample."
      ]
    },
    {
      "cell_type": "markdown",
      "metadata": {
        "id": "8eUzwlQqwPYH"
      },
      "source": [
        "### Naive Bayes\n",
        "\n",
        "<mark>The Naive Bayes classifier is an approach for making this type of inference by assuming **conditional independence between the features** (given the class).</mark> We've already seen (with the fruit and veg above) that this assumption probably is invalid, but it can still give reasonable results.\n",
        "\n",
        "Let's think about this more carefully:\n",
        "\n",
        "We are interested in computing the probability of having diabetes (given some features about the person), i.e.:\n",
        "\n",
        "$P(D=true | x_1, x_2,...,x_n)$.\n",
        "\n",
        "Quoting from the [wikipedia article](https://en.wikipedia.org/wiki/Naive_Bayes_classifier)\n",
        "\n",
        "> The problem with the above formulation is that if the number of features n is large or if a feature can take on a large number of values, then basing such a model on probability tables is infeasible.\n",
        "\n",
        "We've seen this problem with the patient above. Only six rows (out of 253,680) in the database have the same features.\n",
        "\n",
        "### Rewriting with Bayes Rule\n",
        "\n",
        "We can write the above conditional distribution as:\n",
        "\n",
        "$$P(D | x_1, x_2,...,x_n) = \\frac{P(x_1, x_2,...,x_n | D) \\times P(D)}{P(x_1, x_2,...,x_n)}$$\n",
        "\n",
        "We can use the chain rule of probability, to see that we can write the likelihood term as:\n",
        "\n",
        "$$P(x_1, x_2,...,x_n | D) = P(x_1 | x_2,...,x_n, D) \\times P(x_2 | x_3,...,x_n, D) \\times \\;... \\times \\; P(x_{n-1} \\;|\\; x_n, D)$$\n",
        "\n",
        "It's not obvious to see why, so let's go through this step-by-step. We start with our likelihood term telling us the probability of having a BMI of 40, an age of 21 and smoking, given Diabetes = true (or false):\n",
        "\n",
        "$$P(B=40, A=21, S = true | D)$$\n",
        "\n",
        "We can write this using the product rule, as:\n",
        "\n",
        "$$P(B=40 | A=21, S = true, D) \\times P(A = 21, S = true | D)$$\n",
        "\n",
        "We can then apply the same reasoning to the second term (try this yourself).\n",
        "\n",
        "> It's probably worth stopping, writing this down on a bit of paper and thinking about it! This is quite a difficult step, and once you've understood it the rest will be fairly easy.\n",
        ">\n",
        ">  We are using:\n",
        "> $$P(A,B) = P(A|B)\\; P(B)$$\n",
        "> but there's an additional conditional, 'given C' on everything:\n",
        "> $$P(A,B|C) = P(A|B,C)\\; P(B|C)$$\n",
        "\n",
        "The result is that we can write our likelihood as a product of conditional probabilities:\n",
        "\n",
        "$$P(B=40, A=21, S = true | D) \\; \\\\= \\\\ P(B=40 | A=21, S = true, D) \\;\\;\\times\\;\\; P(A=21 | S = true, D) \\;\\;\\times\\;\\; P(S=true | D)$$\n",
        "\n",
        "\n",
        "### The Naive-bit of Naive Bayes\n",
        "\n",
        "> **Reminder: Condition independence.** If two random variables ($X,Y$) are conditionally independent, given a third ($Z$) it means that $P(X|Y,Z) = P(X|Z)$. I.e. (for a given value of Z) the probability of $X$ isn't influenced by the value of $Y$. It is written as $X \\perp \\!\\!\\! \\perp Y | Z$.\n",
        "\n",
        "Naive Bayes: We now make the (conditional) independence assumption in our expression above, that **all the features are conditionally independent (given the diabetes status, D)**.\n",
        "\n",
        "So if our naive-Bayes assumption holds, we can write that:\n",
        "\n",
        "$$P(B=40 \\; | \\; A=21, \\; S = true, \\; D) \\; =\\; P(B=40\\; |\\; D)$$\n",
        "\n",
        "and,\n",
        "\n",
        "$$P(A=21 | S = true, D) = P(A=21 | D)$$\n",
        "\n",
        "Substituting in:\n",
        "\n",
        "$$P(B=40, A=21, S = true | D) \\; =\\; P(B=40 | D) \\; P(A=21 | D) \\; P(S=true | D)$$\n",
        "\n",
        "Please note that this, in general, isn't true. We are saying it's true because we have assumed conditional independence, e.g. that $B \\perp \\!\\!\\! \\perp A | D$, etc."
      ]
    },
    {
      "cell_type": "markdown",
      "metadata": {
        "id": "25tkgwipwPYI"
      },
      "source": [
        "### Why is this useful?\n",
        "\n",
        "The number of people in the dataset who had a BMI=40, were age=21, and smoked was only 6. But lots of individuals had *each* of these characteristics, so we can use these separately:\n",
        "\n",
        "Note that Naive Bayes is often used to compute a ratio between two conditions, but here we'll compute the posterior.\n",
        "\n",
        "$$P(D = true | x_1, x_2,...,x_n) = \\frac{P(x_1, x_2,...,x_n | D = true) P(D = true)}{P(x_1, x_2,...,x_n)}$$\n",
        "\n",
        "To compute the demoninator we marginalise: I.e. we can compute $P(x_1, x_2,...,x_n,D=true)$ and $P(x_1, x_2,...,x_n,D=false)$ and add them up to get $P(x_1, x_2,...,x_n)$.\n",
        "\n",
        "We've already computed the former when we computed the numerator, as it is the joint probability:\n",
        "\n",
        "$$P(x_1, x_2,...,x_n, D = true) = P(x_1, x_2,...,x_n | D = true) P(D = true)$$\n",
        "\n",
        "so we just need to compute,\n",
        "\n",
        "$$P(x_1, x_2,...,x_n, D = false) = P(x_1, x_2,...,x_n | D = false) P(D = false).$$\n",
        "\n",
        "Once we find these, we can add them up:\n",
        "\n",
        "$$P(x_1, x_2,...,x_n) = P(x_1, x_2,...,x_n, D = true) + P(x_1, x_2,...,x_n, D = false)$$"
      ]
    },
    {
      "cell_type": "markdown",
      "metadata": {
        "id": "36BeTjjHwPYJ"
      },
      "source": [
        "### Putting it together...\n",
        "\n",
        "Applying the Naive Bayes (conditional independence assumption) and substituting in our features (to keep it readable I've hidden the values the RVs are equal to). So we assume:\n",
        "\n",
        "$P(B, A, S | D)\\;\\;\\; =\\; P(B | D)\\;\\;\\; P(A | D) \\;\\;\\; P(S | D)\\\\\n",
        "P(B, A, S | \\neg D)\\; =\\; P(B | \\neg D)\\; P(A | \\neg D) \\; P(S | \\neg D)$\n",
        "\n",
        "We can then use these to compute the denominator. Here we're using the above approximations to the likelihoods:\n",
        "\n",
        "$$P(B,A,S) = P(B, A, S | D) P(D) + P(B, A, S| \\neg D)P(\\neg D)$$\n",
        "\n",
        "and finally the posterior we're interested in: (remember that we are now going to be using our approximations, based on our assumptions about independence for these terms).\n",
        "\n",
        "$$P(D | B, A, S) = \\frac{P(B, A, S|D)\\;P(D)}{P(B, A, S)}$$\n"
      ]
    },
    {
      "cell_type": "code",
      "execution_count": null,
      "metadata": {
        "id": "JPRkMB6PwPYJ"
      },
      "outputs": [],
      "source": [
        "#we create two dataframes, one of those with diabetes, and one with those without,\n",
        "dfDiabetes = df[df['Diabetes_012']==2]\n",
        "dfnotDiabetes = df[df['Diabetes_012']<2]\n",
        "\n",
        "PBMI40_givenDiabetesTrue = np.mean(dfDiabetes['BMI']==40)\n",
        "PBMI40_givenDiabetesFalse = np.mean(dfnotDiabetes['BMI']==40)\n",
        "\n",
        "PAge21_givenDiabetesTrue = np.mean(dfDiabetes['Age']==21)\n",
        "PAge21_givenDiabetesFalse = np.mean(dfnotDiabetes['Age']==21)\n",
        "\n",
        "PSmoking_givenDiabetesTrue = np.mean(dfDiabetes['Smoker']==1)\n",
        "PSmoking_givenDiabetesFalse = np.mean(dfnotDiabetes['Smoker']==1)\n",
        "\n",
        "PDiabetesTrue = np.mean(df['Diabetes_012']==2)\n",
        "PDiabetesFalse = np.mean(df['Diabetes_012']<2)"
      ]
    },
    {
      "cell_type": "code",
      "execution_count": null,
      "metadata": {
        "id": "Pe7zekiNwPYK"
      },
      "outputs": [],
      "source": [
        "#P(BMI=40,Age=21,Smoking=true | Diabetes=true)\n",
        "PallGivenDiabetesTrue = (PBMI40_givenDiabetesTrue * PAge21_givenDiabetesTrue * PSmoking_givenDiabetesTrue * PDiabetesTrue)\n",
        "#P(BMI=40,Age=21,Smoking=true | Diabetes=false)\n",
        "PallGivenDiabetesFalse = (PBMI40_givenDiabetesFalse * PAge21_givenDiabetesFalse * PSmoking_givenDiabetesFalse * PDiabetesFalse)\n",
        "\n",
        "print(\"Probaility of diabetes, given BMI=40, Age=21 and Smoker = %0.1f %%\" % (100*(PallGivenDiabetesTrue) / (PallGivenDiabetesTrue + PallGivenDiabetesFalse)))"
      ]
    },
    {
      "cell_type": "markdown",
      "metadata": {
        "id": "PNCuQCjawPYK"
      },
      "source": [
        "### Exercise:\n",
        "\n",
        "- a. What's the probability they have diabetes if they are 62, not a smoker and have a BMI of 20?\n",
        "- b. What's the probability they are over 50 if they have a BMI of 20 and have diabetes and don't smoke? Use both Naive Bayes and compare to the answer computed with the full conditional distribution (without the independence assumption)."
      ]
    },
    {
      "cell_type": "markdown",
      "source": [
        "---"
      ],
      "metadata": {
        "id": "p1ke_BP4mKGt"
      }
    },
    {
      "cell_type": "code",
      "execution_count": null,
      "metadata": {
        "id": "mM2iJDAqwPYL"
      },
      "outputs": [],
      "source": [
        "#Answers here."
      ]
    },
    {
      "cell_type": "markdown",
      "source": [
        "---"
      ],
      "metadata": {
        "id": "xrBUmyL0mNAE"
      }
    },
    {
      "cell_type": "markdown",
      "metadata": {
        "id": "fyQJsg1UwPYM"
      },
      "source": [
        "### Related topics\n",
        "\n",
        "- If you play with Naive Bayes you might find situations where no rows in the training set have that feature value. A simple approach to handling that is simply to 'add one' to all the frequencies. This is [Laplace Smoothing](https://en.wikipedia.org/wiki/Additive_smoothing) (and is the equivalent to adding a prior).\n",
        "- Naive Bayes can be considered as a (simple) Bayesian belief network:\n",
        "\n",
        "<img width=300 src=\"https://www.researchgate.net/publication/283161090/figure/fig1/AS:648613512364033@1531652920537/A-typical-Naive-Bayes-network-diagram.png\" />\n",
        "\n",
        "<small><small>A Naive Bayes Network, from <i>Ibrahim et al. (2015). doi: 10.1016/j.procs.2015.09.194.</i></small></small>\n",
        "\n",
        "A more complex network can be constructed, with some conditional dependencies added between features using edges. [Wikipedia article on Bayesian networks](https://en.wikipedia.org/wiki/Bayesian_network).\n",
        "\n",
        "### Summary\n",
        "\n",
        "With a handful of basic tools (the product rule, marginalisation, etc) we are able to perform really useful inference about important questions."
      ]
    },
    {
      "cell_type": "markdown",
      "metadata": {
        "id": "rFQsZfPywPYN"
      },
      "source": [
        "# Notes for other lecturers on data prep\n",
        "\n",
        "The original ages were stored using a [14 category age](https://www.icpsr.umich.edu/web/NAHDAP/studies/34085/datasets/0001/variables/AGEG5YR?archive=NAHDAP). So I converted these to years (using the centre of each category) and saved as a new file:\n",
        "\n",
        "```\n",
        "newdf = df[df['Age']!=99]\n",
        "newdf['Age'] = newdf['Age']*5+17\n",
        "newdf.loc[newdf['Age']==22,'Age']=21\n",
        "newdf.to_csv('diabetes2.csv')\n",
        "```"
      ]
    },
    {
      "cell_type": "code",
      "source": [],
      "metadata": {
        "id": "tNlwFcVTKOzZ"
      },
      "execution_count": null,
      "outputs": []
    }
  ],
  "metadata": {
    "kernelspec": {
      "display_name": "Python 3",
      "language": "python",
      "name": "python3"
    },
    "language_info": {
      "codemirror_mode": {
        "name": "ipython",
        "version": 3
      },
      "file_extension": ".py",
      "mimetype": "text/x-python",
      "name": "python",
      "nbconvert_exporter": "python",
      "pygments_lexer": "ipython3",
      "version": "3.8.3"
    },
    "colab": {
      "provenance": [],
      "collapsed_sections": [
        "8eUzwlQqwPYH",
        "25tkgwipwPYI",
        "fyQJsg1UwPYM"
      ],
      "toc_visible": true,
      "include_colab_link": true
    }
  },
  "nbformat": 4,
  "nbformat_minor": 0
}